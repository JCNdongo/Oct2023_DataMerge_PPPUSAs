{
 "cells": [
  {
   "cell_type": "markdown",
   "id": "8ddd4f08",
   "metadata": {},
   "source": [
    "### Merging all Contracting Data from 2018 to 2019 in one file containing ONLY the businesses that received federal contracts those two years in a row.###\n",
    "\n",
    "Step 3.1 in README"
   ]
  },
  {
   "cell_type": "code",
   "execution_count": 1,
   "id": "a30f77ae",
   "metadata": {},
   "outputs": [],
   "source": [
    "#importing dependencies\n",
    "import pandas as pd"
   ]
  },
  {
   "cell_type": "code",
   "execution_count": 2,
   "id": "3468eaaf",
   "metadata": {},
   "outputs": [],
   "source": [
    "# File paths\n",
    "file_2018 = r'F:\\FAU PhD\\DISSERTATION\\DATABASES\\DataTESTS\\Oct.23.2023.Test\\All_2018_Contracting.csv'\n",
    "file_2019 = r'F:\\FAU PhD\\DISSERTATION\\DATABASES\\DataTESTS\\Oct.23.2023.Test\\All_2019_Contracting.csv'\n",
    "output_file = r'F:\\FAU PhD\\DISSERTATION\\DATABASES\\DataTESTS\\Oct.23.2023.Test\\All_2018to2019_Contracting.csv'\n"
   ]
  },
  {
   "cell_type": "code",
   "execution_count": 3,
   "id": "dd664407",
   "metadata": {},
   "outputs": [],
   "source": [
    "# Read CSV files and remove leading/trailing spaces in headers\n",
    "def read_clean_csv(file_path):\n",
    "    df = pd.read_csv(file_path)\n",
    "    df.columns = df.columns.str.strip()\n",
    "    return df"
   ]
  },
  {
   "cell_type": "code",
   "execution_count": 4,
   "id": "611b9aa1",
   "metadata": {},
   "outputs": [],
   "source": [
    "# # Read CSV files, remove leading/trailing spaces in headers, and reorder columns\n",
    "# def read_clean_csv(file_path):\n",
    "#     df = pd.read_csv(file_path)\n",
    "#     df.columns = df.columns.str.strip()\n",
    "#     df = df[['businessdba', 'Businessuei', 'businessduns', 'Phone', 'City', 'State', 'ZipCode', 'NAICS',\n",
    "#              'NAICSDescription', '2018_total_dollars_obligated', '2019_total_dollars_obligated',\n",
    "#              '2018_total_outlayed_amount_for_overall_award', '2019_total_outlayed_amount_for_overall_award',\n",
    "#              '2018_current_total_value_of_award', '2019_current_total_value_of_award',\n",
    "#              '2018_base_and_all_options_value', '2019_base_and_all_options_value',\n",
    "#              '2018_potential_total_value_of_award', '2019_potential_total_value_of_award',\n",
    "#              '2018_number_of_offers_received', '2019_number_of_offers_received',\n",
    "#              'alaskan_native', 'american_indian', 'indian_tribe', 'native_hawaiian', 'tribally_owned',\n",
    "#              'veteran_owned', 'service_disabled_veteran', 'woman_owned', 'WOSB', 'econ_disadv_WOSB',\n",
    "#              'jointVenture_WOSB', 'jointVenture_econ_disadv_WOSB', 'minority_owned',\n",
    "#              'subcontinent_asian_indian_american', 'asian_pacific_american', 'black_american', 'hispanic_american',\n",
    "#              'native_american', 'other_minority', 'hubzone']]\n",
    "#     return df\n"
   ]
  },
  {
   "cell_type": "code",
   "execution_count": 5,
   "id": "a730359d",
   "metadata": {},
   "outputs": [
    {
     "name": "stderr",
     "output_type": "stream",
     "text": [
      "C:\\Users\\mjndo\\anaconda3\\envs\\PythonData\\lib\\site-packages\\ipykernel_launcher.py:2: DtypeWarning: Columns (7) have mixed types.Specify dtype option on import or set low_memory=False.\n",
      "  \n",
      "C:\\Users\\mjndo\\anaconda3\\envs\\PythonData\\lib\\site-packages\\ipykernel_launcher.py:3: DtypeWarning: Columns (7) have mixed types.Specify dtype option on import or set low_memory=False.\n",
      "  This is separate from the ipykernel package so we can avoid doing imports until\n"
     ]
    }
   ],
   "source": [
    "# Read and clean the CSV files\n",
    "df_2018 = read_clean_csv(file_2018)\n",
    "df_2019 = read_clean_csv(file_2019)"
   ]
  },
  {
   "cell_type": "code",
   "execution_count": 7,
   "id": "e87a7172",
   "metadata": {},
   "outputs": [],
   "source": [
    "# Merge the dataframes based on \"businessuei\" and remove duplicates\n",
    "merged_df = pd.merge(df_2018, df_2019, on=\"Businessuei\", how=\"outer\").drop_duplicates(subset=\"Businessuei\")\n"
   ]
  },
  {
   "cell_type": "code",
   "execution_count": null,
   "id": "b89aa271",
   "metadata": {},
   "outputs": [],
   "source": [
    "# # Merge the two dataframes\n",
    "# merged_df = pd.concat([df_2018, df_2019], ignore_index=True)"
   ]
  },
  {
   "cell_type": "code",
   "execution_count": 8,
   "id": "26fe9959",
   "metadata": {},
   "outputs": [
    {
     "data": {
      "text/plain": [
       "(111874, 71)"
      ]
     },
     "execution_count": 8,
     "metadata": {},
     "output_type": "execute_result"
    }
   ],
   "source": [
    "merged_df.shape"
   ]
  },
  {
   "cell_type": "code",
   "execution_count": 9,
   "id": "1d398a0d",
   "metadata": {
    "scrolled": true
   },
   "outputs": [
    {
     "data": {
      "text/html": [
       "<div>\n",
       "<style scoped>\n",
       "    .dataframe tbody tr th:only-of-type {\n",
       "        vertical-align: middle;\n",
       "    }\n",
       "\n",
       "    .dataframe tbody tr th {\n",
       "        vertical-align: top;\n",
       "    }\n",
       "\n",
       "    .dataframe thead th {\n",
       "        text-align: right;\n",
       "    }\n",
       "</style>\n",
       "<table border=\"1\" class=\"dataframe\">\n",
       "  <thead>\n",
       "    <tr style=\"text-align: right;\">\n",
       "      <th></th>\n",
       "      <th>Businessname_x</th>\n",
       "      <th>businessdba_x</th>\n",
       "      <th>Businessuei</th>\n",
       "      <th>businessduns_x</th>\n",
       "      <th>Phone_x</th>\n",
       "      <th>City_x</th>\n",
       "      <th>State_x</th>\n",
       "      <th>ZipCode_x</th>\n",
       "      <th>NAICS_x</th>\n",
       "      <th>NAICSDescription_x</th>\n",
       "      <th>...</th>\n",
       "      <th>jointVenture_WOSB_y</th>\n",
       "      <th>jointVenture_econ_disadv_WOSB_y</th>\n",
       "      <th>minority_owned_y</th>\n",
       "      <th>subcontinent_asian_indian_american_y</th>\n",
       "      <th>asian_pacific_american_y</th>\n",
       "      <th>black_american_y</th>\n",
       "      <th>hispanic_american_y</th>\n",
       "      <th>native_american_y</th>\n",
       "      <th>other_minority_y</th>\n",
       "      <th>hubzone_y</th>\n",
       "    </tr>\n",
       "  </thead>\n",
       "  <tbody>\n",
       "    <tr>\n",
       "      <th>0</th>\n",
       "      <td>TOWNSEND MARINE INC</td>\n",
       "      <td>NaN</td>\n",
       "      <td>C111NFV4VEB6</td>\n",
       "      <td>NaN</td>\n",
       "      <td>9122610444</td>\n",
       "      <td>BRUNSWICK</td>\n",
       "      <td>GA</td>\n",
       "      <td>315253092</td>\n",
       "      <td>336612.0</td>\n",
       "      <td>BOAT BUILDING</td>\n",
       "      <td>...</td>\n",
       "      <td>NaN</td>\n",
       "      <td>NaN</td>\n",
       "      <td>NaN</td>\n",
       "      <td>NaN</td>\n",
       "      <td>NaN</td>\n",
       "      <td>NaN</td>\n",
       "      <td>NaN</td>\n",
       "      <td>NaN</td>\n",
       "      <td>NaN</td>\n",
       "      <td>NaN</td>\n",
       "    </tr>\n",
       "    <tr>\n",
       "      <th>1</th>\n",
       "      <td>MYLA DIXON &amp; MARJORIE LEVI</td>\n",
       "      <td>NaN</td>\n",
       "      <td>C115TCG3UFD7</td>\n",
       "      <td>879401255.0</td>\n",
       "      <td>6183746062</td>\n",
       "      <td>ALTON</td>\n",
       "      <td>IL</td>\n",
       "      <td>620026653</td>\n",
       "      <td>561720.0</td>\n",
       "      <td>JANITORIAL SERVICES</td>\n",
       "      <td>...</td>\n",
       "      <td>f</td>\n",
       "      <td>f</td>\n",
       "      <td>f</td>\n",
       "      <td>f</td>\n",
       "      <td>f</td>\n",
       "      <td>f</td>\n",
       "      <td>f</td>\n",
       "      <td>f</td>\n",
       "      <td>f</td>\n",
       "      <td>f</td>\n",
       "    </tr>\n",
       "    <tr>\n",
       "      <th>17</th>\n",
       "      <td>MARZEN GROUP LLC</td>\n",
       "      <td>NaN</td>\n",
       "      <td>C116E6T5MGD6</td>\n",
       "      <td>124654893.0</td>\n",
       "      <td>6038899522</td>\n",
       "      <td>NASHUA</td>\n",
       "      <td>NH</td>\n",
       "      <td>30642278</td>\n",
       "      <td>511210.0</td>\n",
       "      <td>SOFTWARE PUBLISHERS</td>\n",
       "      <td>...</td>\n",
       "      <td>f</td>\n",
       "      <td>f</td>\n",
       "      <td>f</td>\n",
       "      <td>f</td>\n",
       "      <td>f</td>\n",
       "      <td>f</td>\n",
       "      <td>f</td>\n",
       "      <td>f</td>\n",
       "      <td>f</td>\n",
       "      <td>f</td>\n",
       "    </tr>\n",
       "    <tr>\n",
       "      <th>23</th>\n",
       "      <td>DOMINION ELECTRIC SUPPLY COMPANY OF WASHINGTON...</td>\n",
       "      <td>NaN</td>\n",
       "      <td>C11AB3DFZ3W6</td>\n",
       "      <td>NaN</td>\n",
       "      <td>2027890500</td>\n",
       "      <td>WASHINGTON</td>\n",
       "      <td>DC</td>\n",
       "      <td>200024217</td>\n",
       "      <td>423610.0</td>\n",
       "      <td>ELECTRICAL APPARATUS AND EQUIPMENT, WIRING SUP...</td>\n",
       "      <td>...</td>\n",
       "      <td>f</td>\n",
       "      <td>f</td>\n",
       "      <td>f</td>\n",
       "      <td>f</td>\n",
       "      <td>f</td>\n",
       "      <td>f</td>\n",
       "      <td>f</td>\n",
       "      <td>f</td>\n",
       "      <td>f</td>\n",
       "      <td>f</td>\n",
       "    </tr>\n",
       "    <tr>\n",
       "      <th>27</th>\n",
       "      <td>EMERALD COAST VISION AIDS, INC.</td>\n",
       "      <td>NaN</td>\n",
       "      <td>C11PMJJWBE25</td>\n",
       "      <td>829117527.0</td>\n",
       "      <td>8504738081.0</td>\n",
       "      <td>PENSACOLA</td>\n",
       "      <td>FL</td>\n",
       "      <td>325037245</td>\n",
       "      <td>541519.0</td>\n",
       "      <td>OTHER COMPUTER RELATED SERVICES</td>\n",
       "      <td>...</td>\n",
       "      <td>NaN</td>\n",
       "      <td>NaN</td>\n",
       "      <td>NaN</td>\n",
       "      <td>NaN</td>\n",
       "      <td>NaN</td>\n",
       "      <td>NaN</td>\n",
       "      <td>NaN</td>\n",
       "      <td>NaN</td>\n",
       "      <td>NaN</td>\n",
       "      <td>NaN</td>\n",
       "    </tr>\n",
       "  </tbody>\n",
       "</table>\n",
       "<p>5 rows × 71 columns</p>\n",
       "</div>"
      ],
      "text/plain": [
       "                                       Businessname_x businessdba_x  \\\n",
       "0                                 TOWNSEND MARINE INC           NaN   \n",
       "1                          MYLA DIXON & MARJORIE LEVI           NaN   \n",
       "17                                   MARZEN GROUP LLC           NaN   \n",
       "23  DOMINION ELECTRIC SUPPLY COMPANY OF WASHINGTON...           NaN   \n",
       "27                    EMERALD COAST VISION AIDS, INC.           NaN   \n",
       "\n",
       "     Businessuei  businessduns_x       Phone_x      City_x State_x  ZipCode_x  \\\n",
       "0   C111NFV4VEB6             NaN    9122610444   BRUNSWICK      GA  315253092   \n",
       "1   C115TCG3UFD7     879401255.0    6183746062       ALTON      IL  620026653   \n",
       "17  C116E6T5MGD6     124654893.0    6038899522      NASHUA      NH   30642278   \n",
       "23  C11AB3DFZ3W6             NaN    2027890500  WASHINGTON      DC  200024217   \n",
       "27  C11PMJJWBE25     829117527.0  8504738081.0   PENSACOLA      FL  325037245   \n",
       "\n",
       "     NAICS_x                                 NAICSDescription_x  ...  \\\n",
       "0   336612.0                                      BOAT BUILDING  ...   \n",
       "1   561720.0                                JANITORIAL SERVICES  ...   \n",
       "17  511210.0                                SOFTWARE PUBLISHERS  ...   \n",
       "23  423610.0  ELECTRICAL APPARATUS AND EQUIPMENT, WIRING SUP...  ...   \n",
       "27  541519.0                    OTHER COMPUTER RELATED SERVICES  ...   \n",
       "\n",
       "    jointVenture_WOSB_y  jointVenture_econ_disadv_WOSB_y  minority_owned_y  \\\n",
       "0                   NaN                              NaN               NaN   \n",
       "1                     f                                f                 f   \n",
       "17                    f                                f                 f   \n",
       "23                    f                                f                 f   \n",
       "27                  NaN                              NaN               NaN   \n",
       "\n",
       "    subcontinent_asian_indian_american_y  asian_pacific_american_y  \\\n",
       "0                                    NaN                       NaN   \n",
       "1                                      f                         f   \n",
       "17                                     f                         f   \n",
       "23                                     f                         f   \n",
       "27                                   NaN                       NaN   \n",
       "\n",
       "    black_american_y hispanic_american_y native_american_y other_minority_y  \\\n",
       "0                NaN                 NaN               NaN              NaN   \n",
       "1                  f                   f                 f                f   \n",
       "17                 f                   f                 f                f   \n",
       "23                 f                   f                 f                f   \n",
       "27               NaN                 NaN               NaN              NaN   \n",
       "\n",
       "   hubzone_y  \n",
       "0        NaN  \n",
       "1          f  \n",
       "17         f  \n",
       "23         f  \n",
       "27       NaN  \n",
       "\n",
       "[5 rows x 71 columns]"
      ]
     },
     "execution_count": 9,
     "metadata": {},
     "output_type": "execute_result"
    }
   ],
   "source": [
    "merged_df.head()"
   ]
  },
  {
   "cell_type": "code",
   "execution_count": 11,
   "id": "ad29f57f",
   "metadata": {},
   "outputs": [
    {
     "name": "stdout",
     "output_type": "stream",
     "text": [
      "Merged data saved to F:\\FAU PhD\\DISSERTATION\\DATABASES\\DataTESTS\\Oct.23.2023.Test\\All_2018to2019_Contracting.csv\n"
     ]
    }
   ],
   "source": [
    "# Save the merged dataframe to a new CSV file\n",
    "merged_df.to_csv(output_file, index=False)\n",
    "\n",
    "print(f'Merged data saved to {output_file}')"
   ]
  },
  {
   "cell_type": "code",
   "execution_count": null,
   "id": "3ad1034a",
   "metadata": {},
   "outputs": [],
   "source": [
    "# # Save the merged dataframe to a new CSV file\n",
    "# merged_df.to_csv(output_file, index=False)\n",
    "\n",
    "# print(f'Merged data saved to {output_file}')"
   ]
  }
 ],
 "metadata": {
  "kernelspec": {
   "display_name": "PythonData",
   "language": "python",
   "name": "pythondata"
  },
  "language_info": {
   "codemirror_mode": {
    "name": "ipython",
    "version": 3
   },
   "file_extension": ".py",
   "mimetype": "text/x-python",
   "name": "python",
   "nbconvert_exporter": "python",
   "pygments_lexer": "ipython3",
   "version": "3.7.7"
  }
 },
 "nbformat": 4,
 "nbformat_minor": 5
}
