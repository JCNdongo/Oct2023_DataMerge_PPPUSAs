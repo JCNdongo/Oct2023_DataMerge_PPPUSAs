{
 "cells": [
  {
   "cell_type": "markdown",
   "id": "3cfb15a4",
   "metadata": {},
   "source": [
    "## Merging All 2022 USASpending.gov files 1 to 6 ##\n"
   ]
  },
  {
   "cell_type": "code",
   "execution_count": 1,
   "id": "acc9d693",
   "metadata": {},
   "outputs": [],
   "source": [
    "#dependencies\n",
    "import pandas as pd\n",
    "import os"
   ]
  },
  {
   "cell_type": "code",
   "execution_count": 2,
   "id": "c286ea9c",
   "metadata": {},
   "outputs": [],
   "source": [
    "source_folder = r'F:\\FAU PhD\\DISSERTATION\\DATABASES\\DataTESTS\\Oct.23.2023.Test\\2022_2023'\n",
    "output_folder = r'F:\\FAU PhD\\DISSERTATION\\DATABASES\\DataTESTS\\Oct.23.2023.Test'\n"
   ]
  },
  {
   "cell_type": "code",
   "execution_count": 3,
   "id": "39d027d2",
   "metadata": {},
   "outputs": [],
   "source": [
    "# List of file names for each part of the 2023 contracting data\n",
    "file_names = [\n",
    "    '2022_Contracting_1.csv',\n",
    "    '2022_Contracting_2.csv',\n",
    "    '2022_Contracting_3.csv',\n",
    "    '2022_Contracting_4.csv',\n",
    "    '2022_Contracting_5.csv',\n",
    "    '2022_Contracting_6.csv',\n",
    "    '2022_Contracting_7.csv'\n",
    "]"
   ]
  },
  {
   "cell_type": "code",
   "execution_count": 4,
   "id": "58e7f080",
   "metadata": {},
   "outputs": [
    {
     "name": "stderr",
     "output_type": "stream",
     "text": [
      "C:\\Users\\mjndo\\anaconda3\\envs\\PythonData\\lib\\site-packages\\IPython\\core\\interactiveshell.py:3457: DtypeWarning: Columns (10,13) have mixed types.Specify dtype option on import or set low_memory=False.\n",
      "  exec(code_obj, self.user_global_ns, self.user_ns)\n"
     ]
    }
   ],
   "source": [
    "# Read CSV files into separate DataFrames and filter columns\n",
    "filtered_dfs = []\n",
    "\n",
    "for file_name in file_names:\n",
    "    file_path = os.path.join(source_folder, file_name)\n",
    "    df = pd.read_csv(file_path)\n",
    "\n",
    "    # Select only the columns you want to keep\n",
    "    columns_to_keep = [\"Businessname\", \n",
    "                       \"businessdba\",\n",
    "                       \"Businessuei\",\n",
    "                       \"businessduns\",\n",
    "                       \"Phone\",\n",
    "                       \"City\",\n",
    "                       \"State\",\n",
    "                       \"ZipCode\",\n",
    "                       \"NAICS\",\n",
    "                       \"NAICSDescription\",\n",
    "                       \"2022_total_dollars_obligated\",\n",
    "                       \"2022_total_outlayed_amount_for_overall_award\",\n",
    "                       \"2022_current_total_value_of_award\",\n",
    "                       \"2022_base_and_all_options_value\",\n",
    "                       \"2022_potential_total_value_of_award\",\n",
    "                       \"2022_number_of_offers_received\",\n",
    "                       \"alaskan_native\",\n",
    "                       \"american_indian\",\n",
    "                       \"indian_tribe\",\n",
    "                       \"native_hawaiian\",\n",
    "                       \"tribally_owned\",\n",
    "                       \"veteran_owned\",\n",
    "                       \"service_disabled_veteran\",\n",
    "                       \"woman_owned\",\n",
    "                       \"WOSB\",\n",
    "                       \"econ_disadv_WOSB\",\n",
    "                       \"jointVenture_WOSB\",\n",
    "                       \"jointVenture_econ_disadv_WOSB\",\n",
    "                       \"minority_owned\",\n",
    "                       \"subcontinent_asian_indian_american\",\n",
    "                       \"asian_pacific_american\",\n",
    "                       \"black_american\",\n",
    "                       \"hispanic_american\",\n",
    "                       \"native_american\",\n",
    "                       \"other_minority\",\n",
    "                       \"hubzone\"\n",
    "                      ]\n",
    "\n",
    "    filtered_df = df[columns_to_keep]\n",
    "    filtered_dfs.append(filtered_df)\n",
    "\n",
    "# Concatenate the filtered DataFrames into one DataFrame\n",
    "all_filtered_data = pd.concat(filtered_dfs, ignore_index=True)"
   ]
  },
  {
   "cell_type": "code",
   "execution_count": 5,
   "id": "3b9438c2",
   "metadata": {},
   "outputs": [],
   "source": [
    "# Save the combined and filtered DataFrame to a CSV file in the output folder\n",
    "output_file_path = os.path.join(output_folder, 'All_2022_Contracting.csv')\n",
    "all_filtered_data.to_csv(output_file_path, index=False)\n",
    "\n",
    "\n",
    "\n"
   ]
  }
 ],
 "metadata": {
  "kernelspec": {
   "display_name": "PythonData",
   "language": "python",
   "name": "pythondata"
  },
  "language_info": {
   "codemirror_mode": {
    "name": "ipython",
    "version": 3
   },
   "file_extension": ".py",
   "mimetype": "text/x-python",
   "name": "python",
   "nbconvert_exporter": "python",
   "pygments_lexer": "ipython3",
   "version": "3.7.7"
  }
 },
 "nbformat": 4,
 "nbformat_minor": 5
}
